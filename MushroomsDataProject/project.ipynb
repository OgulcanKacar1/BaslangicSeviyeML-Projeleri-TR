{
 "cells": [
  {
   "cell_type": "code",
   "execution_count": null,
   "metadata": {},
   "outputs": [],
   "source": [
    "import pandas as pd\n",
    "import matplotlib.pyplot as plt\n",
    "\n",
    "from sklearn.preprocessing import LabelEncoder\n",
    "from sklearn.model_selection import train_test_split\n",
    "\n",
    "from sklearn.linear_model import LogisticRegression,RidgeClassifier\n",
    "from sklearn.tree import DecisionTreeClassifier\n",
    "from sklearn.naive_bayes import GaussianNB\n",
    "from sklearn.neural_network import MLPClassifier\n",
    "from sklearn.ensemble import RandomForestClassifier\n",
    "\n",
    "from sklearn.metrics import classification_report"
   ]
  },
  {
   "cell_type": "markdown",
   "metadata": {},
   "source": [
    "Dataset and Preprocessing"
   ]
  },
  {
   "cell_type": "code",
   "execution_count": null,
   "metadata": {},
   "outputs": [],
   "source": [
    "data = pd.read_csv(\"mushrooms.csv\")"
   ]
  },
  {
   "cell_type": "code",
   "execution_count": null,
   "metadata": {},
   "outputs": [],
   "source": [
    "data.head()"
   ]
  },
  {
   "cell_type": "code",
   "execution_count": null,
   "metadata": {},
   "outputs": [],
   "source": [
    "classes = data[\"class\"].value_counts()\n",
    "print(classes)"
   ]
  },
  {
   "cell_type": "code",
   "execution_count": null,
   "metadata": {},
   "outputs": [],
   "source": [
    "plt.bar(\"Edible\",classes[\"e\"])\n",
    "plt.bar(\"Poisonous\",classes[\"p\"])\n",
    "\n",
    "plt.show()"
   ]
  },
  {
   "cell_type": "code",
   "execution_count": null,
   "metadata": {},
   "outputs": [],
   "source": [
    "X = data.loc[:,[\"cap-shape\",\"cap-color\",\"ring-number\",\"ring-type\"]]\n",
    "y = data.loc[:,\"class\"]"
   ]
  },
  {
   "cell_type": "code",
   "execution_count": null,
   "metadata": {},
   "outputs": [],
   "source": [
    "encoder = LabelEncoder()"
   ]
  },
  {
   "cell_type": "code",
   "execution_count": null,
   "metadata": {},
   "outputs": [],
   "source": [
    "for i in X.columns:\n",
    "    X[i] = encoder.fit_transform(X[i])\n",
    "\n",
    "y = encoder.fit_transform(y)"
   ]
  },
  {
   "cell_type": "code",
   "execution_count": null,
   "metadata": {},
   "outputs": [],
   "source": [
    "X"
   ]
  },
  {
   "cell_type": "code",
   "execution_count": null,
   "metadata": {},
   "outputs": [],
   "source": [
    "y"
   ]
  },
  {
   "cell_type": "code",
   "execution_count": null,
   "metadata": {},
   "outputs": [],
   "source": [
    "X_train,X_test,y_train,y_test = train_test_split(X,y,test_size =0.3)"
   ]
  },
  {
   "cell_type": "code",
   "execution_count": null,
   "metadata": {},
   "outputs": [],
   "source": [
    " #* Create an object using the LogisticRegression() class\n",
    "logistic_classifier_model = LogisticRegression()\n",
    "\n",
    " #* Create an object using the RidgeClassifier() class\n",
    "ridge_classifier_model = RidgeClassifier()\n",
    "\n",
    " #* Create an object using the DecisionTreeClassifier() class\n",
    "decision_tree_model = DecisionTreeClassifier()\n",
    "\n",
    " #* Create an object using the GaussionNB() class\n",
    "naive_bayes_model = GaussianNB()\n",
    "\n",
    " #* Create an object using the MLPClassifier() class\n",
    "neural_network_model = MLPClassifier()"
   ]
  },
  {
   "cell_type": "code",
   "execution_count": null,
   "metadata": {},
   "outputs": [],
   "source": [
    "logistic_classifier_model.fit(X_train,y_train)\n",
    "ridge_classifier_model.fit(X_train,y_train)\n",
    "decision_tree_model.fit(X_train,y_train)\n",
    "naive_bayes_model.fit(X_train,y_train)\n",
    "neural_network_model.fit(X_train,y_train)"
   ]
  },
  {
   "cell_type": "markdown",
   "metadata": {},
   "source": [
    "Making Predictions"
   ]
  },
  {
   "cell_type": "code",
   "execution_count": null,
   "metadata": {},
   "outputs": [],
   "source": [
    "logistic_pred = logistic_classifier_model.predict(X_test)\n",
    "ridge_pred = ridge_classifier_model.predict(X_test)\n",
    "tree_pred = decision_tree_model.predict(X_test)\n",
    "naive_bayes_pred = naive_bayes_model.predict(X_test)\n",
    "neural_network_pred = neural_network_model.predict(X_test)"
   ]
  },
  {
   "cell_type": "markdown",
   "metadata": {},
   "source": [
    "Comparing The Performances"
   ]
  },
  {
   "cell_type": "code",
   "execution_count": null,
   "metadata": {},
   "outputs": [],
   "source": [
    "logistic_report = classification_report(y_test,logistic_pred)\n",
    "ridge_report = classification_report(y_test,ridge_pred)\n",
    "tree_report = classification_report(y_test,tree_pred)\n",
    "naive_bayes_report = classification_report(y_test,naive_bayes_pred)\n",
    "neural_network_report = classification_report(y_test,neural_network_pred)"
   ]
  },
  {
   "cell_type": "markdown",
   "metadata": {},
   "source": [
    "Print The Reports"
   ]
  },
  {
   "cell_type": "code",
   "execution_count": null,
   "metadata": {},
   "outputs": [],
   "source": [
    "print(\"***** Logistic Regression *****\")\n",
    "print(logistic_report)\n",
    "\n",
    "print(\"***** Ridge Regression *****\")\n",
    "print(ridge_report)\n",
    "\n",
    "print(\"***** Decision Tree *****\")\n",
    "print(tree_report)\n",
    "\n",
    "print(\"***** Naive Bayes *****\")\n",
    "print(naive_bayes_report)\n",
    "\n",
    "print(\"***** Neural Network *****\")\n",
    "print(neural_network_report)"
   ]
  },
  {
   "cell_type": "markdown",
   "metadata": {},
   "source": [
    "Decision tree performed best.But lets see the Random Forest Algorithm to see if it works better"
   ]
  },
  {
   "cell_type": "code",
   "execution_count": null,
   "metadata": {},
   "outputs": [],
   "source": [
    "random_forest_model = RandomForestClassifier()\n",
    "random_forest_model.fit(X_train,y_train)\n",
    "\n",
    "random_forest_pred = random_forest_model.predict(X_test)"
   ]
  },
  {
   "cell_type": "code",
   "execution_count": null,
   "metadata": {},
   "outputs": [],
   "source": [
    "random_forest_report = classification_report(y_test,random_forest_pred)\n",
    "\n",
    "print(\"****** Random Forest *****\")\n",
    "print(random_forest_report)"
   ]
  },
  {
   "cell_type": "code",
   "execution_count": null,
   "metadata": {},
   "outputs": [],
   "source": []
  }
 ],
 "metadata": {
  "kernelspec": {
   "display_name": "base",
   "language": "python",
   "name": "python3"
  },
  "language_info": {
   "codemirror_mode": {
    "name": "ipython",
    "version": 3
   },
   "file_extension": ".py",
   "mimetype": "text/x-python",
   "name": "python",
   "nbconvert_exporter": "python",
   "pygments_lexer": "ipython3",
   "version": "3.10.9"
  },
  "orig_nbformat": 4
 },
 "nbformat": 4,
 "nbformat_minor": 2
}
